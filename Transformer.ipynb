{
 "cells": [
  {
   "cell_type": "code",
   "execution_count": 10,
   "id": "baad9481-fb23-457e-8acb-f1bca2afb784",
   "metadata": {},
   "outputs": [],
   "source": [
    "import torch\n",
    "from torch import nn\n",
    "import numpy as np"
   ]
  },
  {
   "cell_type": "code",
   "execution_count": 22,
   "id": "89fdcc8c",
   "metadata": {},
   "outputs": [],
   "source": [
    "random_tensor = torch.randint(0, 5, (3,))\n",
    "copy = random_tensor\n",
    "random_tensor = random_tensor * 2"
   ]
  },
  {
   "cell_type": "code",
   "execution_count": 23,
   "id": "f030ced2",
   "metadata": {},
   "outputs": [
    {
     "name": "stdout",
     "output_type": "stream",
     "text": [
      "tensor([4, 8, 6])\n",
      "tensor([2, 4, 3])\n"
     ]
    }
   ],
   "source": [
    "print(random_tensor)\n",
    "print(copy)"
   ]
  },
  {
   "cell_type": "code",
   "execution_count": 8,
   "id": "65de7eb6-09ef-4593-b508-855548697238",
   "metadata": {},
   "outputs": [],
   "source": [
    "device = (\n",
    "    \"cuda\"\n",
    "    if torch.cuda.is_available()\n",
    "    else \"mps\"\n",
    "    if torch.backends.mps.is_available()\n",
    "    else \"cpu\"\n",
    ")"
   ]
  },
  {
   "cell_type": "code",
   "execution_count": 11,
   "id": "b4cc5ed3-3cc7-49d7-a77b-288db614a106",
   "metadata": {},
   "outputs": [],
   "source": [
    "class TransformerRecreation(nn.Module):\n",
    "    def __init__(self):\n",
    "        super().__init__()\n",
    "        self.flatten = nn.Flatten()\n",
    "        self.h = 8\n",
    "        self.d_k = 64\n",
    "        self.d_v = 64\n",
    "        self.d_model = 64 * self.h\n",
    "        self.n_encoder_layers = 6\n",
    "        self.n_decoder_layers = 6\n",
    "        \n",
    "        self.linear_layer1 = nn.Sequential(\n",
    "            nn.Linear(28 * 28, 512),\n",
    "            nn.ReLU(),\n",
    "            nn.Linear(512, 512),\n",
    "            nn.ReLU(),\n",
    "            nn.Linear(512, 10)\n",
    "        )\n",
    "        \n",
    "    def encoder_layer(self, x):\n",
    "        x_original = x\n",
    "        x = multiHeadAttention(x)\n",
    "        x = nn.LayerNorm(x + x_original)\n",
    "        sublayer1_output_original = x\n",
    "        x = positionFeedForward(x)\n",
    "        x = nn.LayerNorm(x + sublayer1_output_original)\n",
    "        return x\n",
    "    def stack_encoder_layers(self, x):\n",
    "        for i in range(self.n_encoder_layers):\n",
    "            x = encoder_layer(x)\n",
    "        return x\n",
    "\n",
    "    def decoder_layer(self, x, encoder_output):\n",
    "        x_original = x\n",
    "        x = multiHeadAttention(x)\n",
    "        x = nn.LayerNorm(x + x_original)\n",
    "        sublayer1_output_original = x\n",
    "        x = positionFeedForward(x)\n",
    "        x = nn.LayerNorm(x + sublayer1_output_original)\n",
    "        return x\n",
    "        \n",
    "\n",
    "    def stack_decoder_layers(self, x, encoder_output):\n",
    "        for i in range(self.n_decoder_layers):\n",
    "            x = decoder_layer(x, encoder_output)\n",
    "        return x\n",
    "\n",
    "    \n",
    "    def attention(self, Q, K, V):\n",
    "        x = torch.matmul(Q, K)\n",
    "        x = x / np.sqrt(self.d_k)\n",
    "        x = nn.Softmax(x)\n",
    "        x = nn.matmul(x, V)\n",
    "        return x\n",
    "\n",
    "    def multiHeadAttention(self, Q):\n",
    "        K = torch.Tensor(1, self.d_k, self.d_k)\n",
    "        V = torch.Tensor(1, self.d_v, self.d_v)\n",
    "        W_q = torch.Tensor(1, self.d_model, self.d_k)\n",
    "        W_k = torch.Tensor(1, self.d_model, self.d_k)\n",
    "        W_v = torch.Tensor(1, self.d_model, self.d_v)\n",
    "        W_out = torch.Tensor(1, self.h * self.d_v, self.d_model)\n",
    "        multihead_list = []\n",
    "        for i in range(self.h):\n",
    "            multihead_list.append(attention(torch.matmul(Q, W_q), torch.matmul(K, W_k), torch.matmul(V, W_v)))\n",
    "        \n",
    "        return torch.matmul(multihead_list, W_out)\n",
    "    \n",
    "    def positionFeedForward(self, x):\n",
    "        x = max(0, torch.nn.Linear(x))\n",
    "        x = torch.nn.Linear(x)\n",
    "        return x\n",
    "        \n",
    "    def positional_encoding(self, pos, i):\n",
    "        return np.sin(pos / 10_000**(2*i / self.d_model))\n",
    "    \n",
    "    def forward(self, x):\n",
    "        x = stack_encoder_layers(x)\n",
    "        encoder_output = x\n",
    "        "
   ]
  },
  {
   "cell_type": "code",
   "execution_count": 51,
   "id": "62c7aead-4274-4fb3-8b50-f119a7667b67",
   "metadata": {},
   "outputs": [
    {
     "data": {
      "text/plain": [
       "512"
      ]
     },
     "execution_count": 51,
     "metadata": {},
     "output_type": "execute_result"
    }
   ],
   "source": []
  },
  {
   "cell_type": "code",
   "execution_count": 16,
   "id": "2c893f44-e65f-42d1-b3e6-00c47117e4ff",
   "metadata": {},
   "outputs": [
    {
     "name": "stdout",
     "output_type": "stream",
     "text": [
      "tensor([[-0.0256, -0.0691,  0.0705, -0.0238, -0.0211,  0.0156, -0.0638,  0.0071,\n",
      "          0.0155,  0.0243]], device='mps:0', grad_fn=<LinearBackward0>)\n"
     ]
    }
   ],
   "source": [
    "# model = TransformerRecreation().to(device)\n",
    "# print(model)\n",
    "# inputs = torch.rand(1, 28, 28, device = device)\n",
    "# pred = model(inputs)\n",
    "# print(pred)\n",
    "\n",
    "# pred_prob = nn.Softmax(dim=1)(pred)\n",
    "# pred_prob\n",
    "\n",
    "# y_pred = pred_prob.argmax(1)\n",
    "# y_pred"
   ]
  },
  {
   "cell_type": "code",
   "execution_count": 46,
   "id": "ad6dd51a-dd61-4463-a533-6707545625d4",
   "metadata": {},
   "outputs": [],
   "source": [
    "test_rand1 = torch.randint(10, (2, 2))\n",
    "test_rand2 = torch.randint(10, (2, 2))"
   ]
  },
  {
   "cell_type": "code",
   "execution_count": 47,
   "id": "03615c55-c635-4b7c-97a1-e54cd135719e",
   "metadata": {},
   "outputs": [
    {
     "data": {
      "text/plain": [
       "(tensor([[3, 6],\n",
       "         [8, 0]]),\n",
       " tensor([[2, 8],\n",
       "         [7, 5]]))"
      ]
     },
     "execution_count": 47,
     "metadata": {},
     "output_type": "execute_result"
    }
   ],
   "source": [
    "test_rand1, test_rand2"
   ]
  },
  {
   "cell_type": "code",
   "execution_count": 48,
   "id": "e4bd2d7f-7f3f-4e79-9ad5-4508b3725df5",
   "metadata": {},
   "outputs": [
    {
     "data": {
      "text/plain": [
       "tensor([[48, 54],\n",
       "        [16, 64]])"
      ]
     },
     "execution_count": 48,
     "metadata": {},
     "output_type": "execute_result"
    }
   ],
   "source": [
    "torch.matmul(test_rand1, test_rand2)"
   ]
  },
  {
   "cell_type": "code",
   "execution_count": null,
   "id": "098976dd-6b1d-4459-9cfc-df5d1390b5d2",
   "metadata": {},
   "outputs": [],
   "source": [
    "2"
   ]
  }
 ],
 "metadata": {
  "kernelspec": {
   "display_name": "Python 3 (ipykernel)",
   "language": "python",
   "name": "python3"
  },
  "language_info": {
   "codemirror_mode": {
    "name": "ipython",
    "version": 3
   },
   "file_extension": ".py",
   "mimetype": "text/x-python",
   "name": "python",
   "nbconvert_exporter": "python",
   "pygments_lexer": "ipython3",
   "version": "3.10.9"
  }
 },
 "nbformat": 4,
 "nbformat_minor": 5
}
