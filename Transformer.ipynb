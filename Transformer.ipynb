{
 "cells": [
  {
   "cell_type": "code",
   "execution_count": 1,
   "id": "baad9481-fb23-457e-8acb-f1bca2afb784",
   "metadata": {},
   "outputs": [
    {
     "name": "stderr",
     "output_type": "stream",
     "text": [
      "/Users/marvin_meng/Library/Python/3.9/lib/python/site-packages/urllib3/__init__.py:34: NotOpenSSLWarning: urllib3 v2 only supports OpenSSL 1.1.1+, currently the 'ssl' module is compiled with 'LibreSSL 2.8.3'. See: https://github.com/urllib3/urllib3/issues/3020\n",
      "  warnings.warn(\n"
     ]
    }
   ],
   "source": [
    "import torch\n",
    "from torch import nn\n",
    "import numpy as np\n",
    "\n",
    "from torchtext.data.utils import get_tokenizer\n",
    "from torchtext.vocab import build_vocab_from_iterator\n",
    "from torchtext.datasets import multi30k, Multi30k\n",
    "from typing import Iterable, List\n"
   ]
  },
  {
   "cell_type": "code",
   "execution_count": 5,
   "id": "d33ce4f2",
   "metadata": {},
   "outputs": [
    {
     "name": "stderr",
     "output_type": "stream",
     "text": [
      "100%|█████████████████████████████████████████████████████████████████████████████████████████████████████████████████████████████████████████████████████████████████████████| 232k/232k [00:00<00:00, 18.3MB/s]\n"
     ]
    },
    {
     "data": {
      "text/plain": [
       "[['hello', 'world'], ['how', 'are', 'you', '!']]"
      ]
     },
     "execution_count": 5,
     "metadata": {},
     "output_type": "execute_result"
    }
   ],
   "source": [
    "from torchtext.transforms import BERTTokenizer\n",
    "VOCAB_FILE = \"https://huggingface.co/bert-base-uncased/resolve/main/vocab.txt\"\n",
    "tokenizer = BERTTokenizer(vocab_path=VOCAB_FILE, do_lower_case=True, return_tokens=True)\n",
    "tokenizer(\"Hello World, How are you!\") # single sentence input\n",
    "tokenizer([\"Hello World\",\"How are you!\"]) # batch input"
   ]
  },
  {
   "cell_type": "code",
   "execution_count": 3,
   "id": "65de7eb6-09ef-4593-b508-855548697238",
   "metadata": {},
   "outputs": [],
   "source": [
    "device = (\n",
    "    \"cuda\"\n",
    "    if torch.cuda.is_available()\n",
    "    else \"mps\"\n",
    "    if torch.backends.mps.is_available()\n",
    "    else \"cpu\"\n",
    ")"
   ]
  },
  {
   "cell_type": "code",
   "execution_count": 4,
   "id": "b4cc5ed3-3cc7-49d7-a77b-288db614a106",
   "metadata": {},
   "outputs": [],
   "source": [
    "class TransformerRecreation(nn.Module):\n",
    "    def __init__(self, h = 8, d_k = 64, d_v = 64, d_model = 512, n_encoder_layers = 6, n_decoder_layers = 6, d_ff=2096):\n",
    "        super().__init__()\n",
    "        self.h = h\n",
    "        self.d_k = d_k\n",
    "        self.d_v = d_v\n",
    "        self.d_model = d_model\n",
    "        self.n_encoder_layers = n_encoder_layers\n",
    "        self.n_decoder_layers = n_decoder_layers\n",
    "        self.d_ff = d_ff\n",
    "        \n",
    "        \n",
    "        self.W_q_list = [torch.Tensor(1, self.d_model, self.d_k) for i in range(self.h)]\n",
    "        self.W_k_list = [torch.Tensor(1, self.d_model, self.d_k) for i in range(self.h)]\n",
    "        self.W_v_list = [torch.Tensor(1, self.d_model, self.d_v) for i in range(self.h)]\n",
    "        \n",
    "        self.W_out = torch.Tensor(1, self.h * self.d_v, self.d_model)\n",
    "        \n",
    "        self.ff_model = nn.Sequential(\n",
    "            nn.Linear(self.d_model, self.d_ff),\n",
    "            nn.ReLU(),\n",
    "            nn.Linear(self.d_ff, self.d_model)\n",
    "        )\n",
    "        \n",
    "    def encoder_layer(self, x):\n",
    "        x_original = x\n",
    "        x = positional_encoding(x)\n",
    "        x = multiHeadAttention(x)\n",
    "        x = nn.LayerNorm(x + x_original)\n",
    "        sublayer1_output_original = x\n",
    "        x = self.ff_model(x)\n",
    "        x = nn.LayerNorm(x + sublayer1_output_original)\n",
    "        return x\n",
    "    \n",
    "    def stack_encoder_layers(self, x):\n",
    "        for i in range(self.n_encoder_layers):\n",
    "            x = encoder_layer(x)\n",
    "        return x\n",
    "\n",
    "    def decoder_layer(self, x, encoder_output):\n",
    "        x_original = x\n",
    "        ### Sublayer 1: Masked Multi-head Attention\n",
    "        x = multiHeadAttention(x)\n",
    "        x = nn.LayerNorm(x + x_original)\n",
    "        sublayer1_output_original = x\n",
    "        \n",
    "        ### Sublayer 2: multi-head attention\n",
    "        x = multiHeadAttention(encoder_output) # multiHeadAttention(x)  ### are encoder output and sublayer1_output_original both put in this?\n",
    "        x = nn.LayerNorm(x + sublayer1_output_original)\n",
    "        sublayer2_output_original = x\n",
    "        \n",
    "        ### Sublayer 3: Feed Forward\n",
    "        x = self.ff_model(x)\n",
    "        x = nn.LayerNorm(x + sublayer2_output_original)\n",
    "        return x\n",
    "        \n",
    "\n",
    "    def stack_decoder_layers(self, x, encoder_output):\n",
    "        for i in range(self.n_decoder_layers):\n",
    "            x = decoder_layer(x, encoder_output)\n",
    "        return x\n",
    "\n",
    "    \n",
    "    def attention(self, Q, K, V):\n",
    "        x = torch.matmul(Q, K)\n",
    "        x = x / np.sqrt(self.d_k)\n",
    "        x = nn.Softmax(x)\n",
    "        x = nn.matmul(x, V)\n",
    "        return x # n x d_v\n",
    "\n",
    "    def multiHeadAttention(self, Q):\n",
    "        K = torch.Tensor(1, self.d_k, self.d_k)\n",
    "        V = torch.Tensor(1, self.d_v, self.d_v)\n",
    "\n",
    "        acc_tensor = torch.Tensor()\n",
    "        for i in range(self.h):\n",
    "            # project q,k,v matrices from d_model to d_k, d_v\n",
    "            proj_q = torch.matmul(Q, self.W_q_list[i])\n",
    "            proj_k = torch.matmul(K, self.W_k_list[i])\n",
    "            proj_v = torch.matmul(V, self.W_v_list[i])\n",
    "            \n",
    "            # calculate attention\n",
    "            head = attention(proj_q, proj_k, proj_v)\n",
    "            \n",
    "            # concat head_i\n",
    "            acc_tensor = torch.cat(acc_tensor, head)\n",
    "        \n",
    "        return torch.matmul(acc_tensor, self.W_out)\n",
    "    \n",
    "    def positional_encoding(self, x):\n",
    "        \"\"\"\n",
    "        pos is position of sequence, which would be nth character / token in sequence\n",
    "        In paper, they say i is dimension of sequence, so len() of input (??)\n",
    "        \"\"\"\n",
    "        base_positional_encoding = np.array(range(len(x)))\n",
    "        return np.sin(base_positional_encoding / 10_000**(2*len(x) / self.d_model))\n",
    "    \n",
    "    def forward(self, x):\n",
    "        x = encoder_layer(x)\n",
    "        encoder_output = x\n",
    "        x = decoder_layer(x, encoder_output)\n",
    "        decoder_output = x\n",
    "\n",
    "        "
   ]
  },
  {
   "cell_type": "code",
   "execution_count": 16,
   "id": "2c893f44-e65f-42d1-b3e6-00c47117e4ff",
   "metadata": {},
   "outputs": [
    {
     "name": "stdout",
     "output_type": "stream",
     "text": [
      "tensor([[-0.0256, -0.0691,  0.0705, -0.0238, -0.0211,  0.0156, -0.0638,  0.0071,\n",
      "          0.0155,  0.0243]], device='mps:0', grad_fn=<LinearBackward0>)\n"
     ]
    }
   ],
   "source": [
    "# model = TransformerRecreation().to(device)\n",
    "# print(model)\n",
    "# inputs = torch.rand(1, 28, 28, device = device)\n",
    "# pred = model(inputs)\n",
    "# print(pred)\n",
    "\n",
    "# pred_prob = nn.Softmax(dim=1)(pred)\n",
    "# pred_prob\n",
    "\n",
    "# y_pred = pred_prob.argmax(1)\n",
    "# y_pred"
   ]
  },
  {
   "cell_type": "code",
   "execution_count": null,
   "id": "098976dd-6b1d-4459-9cfc-df5d1390b5d2",
   "metadata": {},
   "outputs": [],
   "source": []
  }
 ],
 "metadata": {
  "kernelspec": {
   "display_name": "transformer",
   "language": "python",
   "name": "transformer"
  },
  "language_info": {
   "codemirror_mode": {
    "name": "ipython",
    "version": 3
   },
   "file_extension": ".py",
   "mimetype": "text/x-python",
   "name": "python",
   "nbconvert_exporter": "python",
   "pygments_lexer": "ipython3",
   "version": "3.9.6"
  }
 },
 "nbformat": 4,
 "nbformat_minor": 5
}
