{
 "cells": [
  {
   "cell_type": "code",
   "execution_count": 10,
   "id": "baad9481-fb23-457e-8acb-f1bca2afb784",
   "metadata": {},
   "outputs": [],
   "source": [
    "import torch\n",
    "from torch import nn\n",
    "import numpy as np"
   ]
  },
  {
   "cell_type": "code",
   "execution_count": 37,
   "id": "89fdcc8c",
   "metadata": {},
   "outputs": [],
   "source": [
    "random_tensor = torch.randint(0, 5, (3,))\n",
    "acc_tensor = torch.Tensor()"
   ]
  },
  {
   "cell_type": "code",
   "execution_count": 39,
   "id": "f030ced2",
   "metadata": {},
   "outputs": [],
   "source": [
    "for i in range(4):\n",
    "    concated_tensor = torch.cat((concated_tensor, random_tensor))"
   ]
  },
  {
   "cell_type": "code",
   "execution_count": 40,
   "id": "3edb6f80",
   "metadata": {},
   "outputs": [
    {
     "data": {
      "text/plain": [
       "tensor([0., 0., 3., 0., 0., 3., 0., 0., 3., 0., 0., 3.])"
      ]
     },
     "execution_count": 40,
     "metadata": {},
     "output_type": "execute_result"
    }
   ],
   "source": [
    "concated_tensor"
   ]
  },
  {
   "cell_type": "code",
   "execution_count": 8,
   "id": "65de7eb6-09ef-4593-b508-855548697238",
   "metadata": {},
   "outputs": [],
   "source": [
    "device = (\n",
    "    \"cuda\"\n",
    "    if torch.cuda.is_available()\n",
    "    else \"mps\"\n",
    "    if torch.backends.mps.is_available()\n",
    "    else \"cpu\"\n",
    ")"
   ]
  },
  {
   "cell_type": "code",
   "execution_count": 11,
   "id": "b4cc5ed3-3cc7-49d7-a77b-288db614a106",
   "metadata": {},
   "outputs": [],
   "source": [
    "class TransformerRecreation(nn.Module):\n",
    "    def __init__(self, h, d_k, d_v, d_model, n_encoder_layers, n_decoder_layers, d_ff):\n",
    "        super().__init__()\n",
    "        self.h = h\n",
    "        self.d_k = d_k\n",
    "        self.d_v = d_v\n",
    "        self.d_model = d_model\n",
    "        self.n_encoder_layers = n_encoder_layers\n",
    "        self.n_decoder_layers = n_decoder_layers\n",
    "        self.d_ff = d_ff\n",
    "        \n",
    "        \n",
    "        self.W_q_list = [torch.Tensor(1, self.d_model, self.d_k) for i in range(self.h)]\n",
    "        self.W_k_list = [torch.Tensor(1, self.d_model, self.d_k) for i in range(self.h)]\n",
    "        self.W_v_list = [torch.Tensor(1, self.d_model, self.d_v) for i in range(self.h)]\n",
    "        \n",
    "        self.W_out = torch.Tensor(1, self.h * self.d_v, self.d_model)\n",
    "        \n",
    "        self.ff_model = nn.Sequential(\n",
    "            nn.Linear(self.d_model, self.d_ff),\n",
    "            nn.ReLU(),\n",
    "            nn.Linear(self.d_ff, self.d_model)\n",
    "        )\n",
    "        \n",
    "    def encoder_layer(self, x):\n",
    "        x_original = x\n",
    "        x = multiHeadAttention(x)\n",
    "        x = nn.LayerNorm(x + x_original)\n",
    "        sublayer1_output_original = x\n",
    "        x = positionFeedForward(x)\n",
    "        x = nn.LayerNorm(x + sublayer1_output_original)\n",
    "        return x\n",
    "    \n",
    "    def stack_encoder_layers(self, x):\n",
    "        for i in range(self.n_encoder_layers):\n",
    "            x = encoder_layer(x)\n",
    "        return x\n",
    "\n",
    "    def decoder_layer(self, x, encoder_output):\n",
    "        x_original = x\n",
    "        ### Sublayer 1: Masked Multi-head Attention\n",
    "        x = multiHeadAttention(x)\n",
    "        x = nn.LayerNorm(x + x_original)\n",
    "        sublayer1_output_original = x\n",
    "        \n",
    "        ### Sublayer 2: multi-head attention\n",
    "        x = multiHeadAttention(encoder_output) # multiHeadAttention(x)  ### are encoder output and sublayer1_output_original both put in this?\n",
    "        x = nn.LayerNorm(x + sublayer1_output_original)\n",
    "        sublayer2_output_original = x\n",
    "        \n",
    "        ### Sublayer 3: Feed Forward\n",
    "        x = positionFeedForward(x)   \n",
    "        x = nn.LayerNorm(x + sublayer2_output_original)\n",
    "        return x\n",
    "        \n",
    "\n",
    "    def stack_decoder_layers(self, x, encoder_output):\n",
    "        for i in range(self.n_decoder_layers):\n",
    "            x = decoder_layer(x, encoder_output)\n",
    "        return x\n",
    "\n",
    "    \n",
    "    def attention(self, Q, K, V):\n",
    "        x = torch.matmul(Q, K)\n",
    "        x = x / np.sqrt(self.d_k)\n",
    "        x = nn.Softmax(x)\n",
    "        x = nn.matmul(x, V)\n",
    "        return x # n x d_v\n",
    "\n",
    "    def multiHeadAttention(self, Q):\n",
    "        K = torch.Tensor(1, self.d_k, self.d_k)\n",
    "        V = torch.Tensor(1, self.d_v, self.d_v)\n",
    "\n",
    "        acc_tensor = torch.Tensor()\n",
    "        for i in range(self.h):\n",
    "            # project q,k,v matrices from d_model to d_k, d_v\n",
    "            proj_q = torch.matmul(Q, self.W_q_list[i])\n",
    "            proj_k = torch.matmul(K, self.W_k_list[i])\n",
    "            proj_v = torch.matmul(V, self.W_v_list[i])\n",
    "            \n",
    "            # calculate attention\n",
    "            head = attention(proj_q, proj_k, proj_v)\n",
    "            \n",
    "            # concat head_i\n",
    "            acc_tensor = torch.cat(acc_tensor, head)\n",
    "        \n",
    "        return torch.matmul(acc_tensor, self.W_out)\n",
    "    \n",
    "    def positionFeedForward(self, x):\n",
    "        x = self.ff_model(x)\n",
    "        return x\n",
    "        \n",
    "    def positional_encoding(self, pos, i):\n",
    "        return np.sin(pos / 10_000**(2*i / self.d_model))\n",
    "    \n",
    "    def forward(self, x):\n",
    "        x = encoder_layer(x)\n",
    "        x = decoder_layer(x)\n",
    "        encoder_output = x\n",
    "        "
   ]
  },
  {
   "cell_type": "code",
   "execution_count": 16,
   "id": "2c893f44-e65f-42d1-b3e6-00c47117e4ff",
   "metadata": {},
   "outputs": [
    {
     "name": "stdout",
     "output_type": "stream",
     "text": [
      "tensor([[-0.0256, -0.0691,  0.0705, -0.0238, -0.0211,  0.0156, -0.0638,  0.0071,\n",
      "          0.0155,  0.0243]], device='mps:0', grad_fn=<LinearBackward0>)\n"
     ]
    }
   ],
   "source": [
    "# model = TransformerRecreation().to(device)\n",
    "# print(model)\n",
    "# inputs = torch.rand(1, 28, 28, device = device)\n",
    "# pred = model(inputs)\n",
    "# print(pred)\n",
    "\n",
    "# pred_prob = nn.Softmax(dim=1)(pred)\n",
    "# pred_prob\n",
    "\n",
    "# y_pred = pred_prob.argmax(1)\n",
    "# y_pred"
   ]
  },
  {
   "cell_type": "code",
   "execution_count": null,
   "id": "098976dd-6b1d-4459-9cfc-df5d1390b5d2",
   "metadata": {},
   "outputs": [],
   "source": [
    "2"
   ]
  }
 ],
 "metadata": {
  "kernelspec": {
   "display_name": "transformer",
   "language": "python",
   "name": "transformer"
  },
  "language_info": {
   "codemirror_mode": {
    "name": "ipython",
    "version": 3
   },
   "file_extension": ".py",
   "mimetype": "text/x-python",
   "name": "python",
   "nbconvert_exporter": "python",
   "pygments_lexer": "ipython3",
   "version": "3.9.6"
  }
 },
 "nbformat": 4,
 "nbformat_minor": 5
}
